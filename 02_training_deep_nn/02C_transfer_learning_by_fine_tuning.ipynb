{
 "cells": [
  {
   "attachments": {},
   "cell_type": "markdown",
   "metadata": {},
   "source": [
    "## Transfer Learning\n",
    "\n",
    "The data:\n",
    "https://keras.io/api/datasets/fashion_mnist/\n",
    "\n",
    "Fashion-MNIST is a dataset of 60,000 28x28 grayscale images of 10 fashion categories, along with a test set of 10,000 images. This dataset can be used as a drop-in replacement for MNIST.\n",
    "\n",
    "The classes are:\n",
    "\n",
    "Label |\tDescription\n",
    "--- | ---\n",
    "0|\tT-shirt/top\n",
    "1|\tTrouser\n",
    "2|\tPullover\n",
    "3|\tDress\n",
    "4|\tCoat\n",
    "5|\tSandal\n",
    "6|\tShirt\n",
    "7|\tSneaker\n",
    "8|\tBag\n",
    "9|\tAnkle boot"
   ]
  },
  {
   "cell_type": "code",
   "execution_count": 9,
   "metadata": {},
   "outputs": [],
   "source": [
    "class_names = [\"T-shirt/top\", \"Trouser\", \"Pullover\", \"Dress\", \"Coat\", \"Sandal\", \"Shirt\", \"Sneaker\", \"Bag\", \"Ankle boot\"]"
   ]
  },
  {
   "cell_type": "code",
   "execution_count": 18,
   "metadata": {},
   "outputs": [],
   "source": [
    "import tensorflow as tf\n",
    "import numpy as np"
   ]
  },
  {
   "cell_type": "code",
   "execution_count": 12,
   "metadata": {},
   "outputs": [],
   "source": [
    "import matplotlib.pyplot as plt\n",
    "\n",
    "plt.rc('font', size=14)\n",
    "plt.rc('axes', labelsize=14, titlesize=14)\n",
    "plt.rc('legend', fontsize=14)\n",
    "plt.rc('xtick', labelsize=10)\n",
    "plt.rc('ytick', labelsize=10)"
   ]
  },
  {
   "attachments": {},
   "cell_type": "markdown",
   "metadata": {},
   "source": [
    "## Get the Data"
   ]
  },
  {
   "cell_type": "code",
   "execution_count": 13,
   "metadata": {},
   "outputs": [],
   "source": [
    "fashion_mnist = tf.keras.datasets.fashion_mnist.load_data()\n",
    "(X_train_full, y_train_full), (X_test, y_test) = fashion_mnist\n",
    "X_train, y_train = X_train_full[:-5000], y_train_full[:-5000]\n",
    "X_valid, y_valid = X_train_full[-5000:], y_train_full[-5000:]"
   ]
  },
  {
   "attachments": {},
   "cell_type": "markdown",
   "metadata": {},
   "source": [
    "## Explore the Data"
   ]
  },
  {
   "cell_type": "code",
   "execution_count": 14,
   "metadata": {},
   "outputs": [
    {
     "data": {
      "text/plain": [
       "<matplotlib.image.AxesImage at 0x13302532050>"
      ]
     },
     "execution_count": 14,
     "metadata": {},
     "output_type": "execute_result"
    },
    {
     "data": {
      "image/png": "[encoded data removed]",
      "text/plain": [
       "<Figure size 640x480 with 1 Axes>"
      ]
     },
     "metadata": {},
     "output_type": "display_data"
    }
   ],
   "source": [
    "plt.imshow(X_train[0], cmap='gray')"
   ]
  },
  {
   "cell_type": "code",
   "execution_count": 15,
   "metadata": {},
   "outputs": [
    {
     "data": {
      "text/plain": [
       "9"
      ]
     },
     "execution_count": 15,
     "metadata": {},
     "output_type": "execute_result"
    }
   ],
   "source": [
    "y_train[0]"
   ]
  },
  {
   "attachments": {},
   "cell_type": "markdown",
   "metadata": {},
   "source": [
    "## Preprocess the Data"
   ]
  },
  {
   "cell_type": "code",
   "execution_count": 16,
   "metadata": {},
   "outputs": [],
   "source": [
    "X_train, X_valid, X_test = X_train / 255, X_valid / 255, X_test / 255\n",
    "\n",
    "pixel_means = X_train.mean(axis=0, keepdims=True)\n",
    "pixel_stds = X_train.std(axis=0, keepdims=True)\n",
    "X_train_scaled = (X_train - pixel_means) / pixel_stds\n",
    "X_valid_scaled = (X_valid - pixel_means) / pixel_stds\n",
    "X_test_scaled = (X_test - pixel_means) / pixel_stds"
   ]
  },
  {
   "attachments": {},
   "cell_type": "markdown",
   "metadata": {},
   "source": [
    "Let's split the fashion MNIST training set in two:\n",
    "* `X_train_A`: all images of all items except for **T-shirts/tops** and **pullovers** (classes **0** and **2**).\n",
    "* `X_train_B`: a much smaller training set of just the first 200 images of T-shirts/tops and pullovers.\n",
    "\n",
    "The validation set and the test set are also split this way, but without restricting the number of images.\n",
    "\n",
    "We will train a model on set A (classification task with 8 classes), and try to reuse it to tackle set B (binary classification). We hope to transfer a little bit of knowledge from task A to task B, since classes in set A (trousers, dresses, coats, sandals, shirts, sneakers, bags, and ankle boots) are somewhat similar to classes in set B (T-shirts/tops and pullovers). However, since we are using `Dense` layers, only patterns that occur at the same location can be reused (in contrast, convolutional layers will transfer much better, since learned patterns can be detected anywhere on the image)."
   ]
  },
  {
   "cell_type": "code",
   "execution_count": 38,
   "metadata": {},
   "outputs": [],
   "source": [
    "pos_class_id = class_names.index(\"Pullover\")\n",
    "neg_class_id = class_names.index(\"T-shirt/top\")\n",
    "\n",
    "def split_dataset(X, y):\n",
    "    y_for_B = (y == pos_class_id) | (y == neg_class_id)\n",
    "    y_A = y[~y_for_B]\n",
    "    y_B = (y[y_for_B] == pos_class_id).astype(np.float32)\n",
    "    old_class_ids = list(set(range(10)) - set([neg_class_id, pos_class_id]))\n",
    "    for old_class_id, new_class_id in zip(old_class_ids, range(8)):\n",
    "        y_A[y_A == old_class_id] = new_class_id  # reorder class ids for A\n",
    "    return ((X[~y_for_B], y_A), (X[y_for_B], y_B))\n",
    "\n",
    "(X_train_A, y_train_A), (X_train_B, y_train_B) = split_dataset(X_train, y_train)\n",
    "(X_valid_A, y_valid_A), (X_valid_B, y_valid_B) = split_dataset(X_valid, y_valid)\n",
    "(X_test_A, y_test_A), (X_test_B, y_test_B) = split_dataset(X_test, y_test)\n",
    "X_train_B = X_train_B[:200]\n",
    "y_train_B = y_train_B[:200]"
   ]
  },
  {
   "attachments": {},
   "cell_type": "markdown",
   "metadata": {},
   "source": [
    "## Define the Model"
   ]
  },
  {
   "cell_type": "code",
   "execution_count": 39,
   "metadata": {},
   "outputs": [
    {
     "name": "stdout",
     "output_type": "stream",
     "text": [
      "Epoch 1/20\n",
      "1376/1376 [==============================] - 2s 2ms/step - loss: 1.1036 - accuracy: 0.6690 - val_loss: 0.6762 - val_accuracy: 0.7869\n",
      "Epoch 2/20\n",
      "1376/1376 [==============================] - 2s 1ms/step - loss: 0.5874 - accuracy: 0.8155 - val_loss: 0.5019 - val_accuracy: 0.8403\n",
      "Epoch 3/20\n",
      "1376/1376 [==============================] - 2s 1ms/step - loss: 0.4739 - accuracy: 0.8514 - val_loss: 0.4325 - val_accuracy: 0.8611\n",
      "Epoch 4/20\n",
      "1376/1376 [==============================] - 2s 1ms/step - loss: 0.4175 - accuracy: 0.8639 - val_loss: 0.3915 - val_accuracy: 0.8721\n",
      "Epoch 5/20\n",
      "1376/1376 [==============================] - 2s 1ms/step - loss: 0.3822 - accuracy: 0.8741 - val_loss: 0.3656 - val_accuracy: 0.8754\n",
      "Epoch 6/20\n",
      "1376/1376 [==============================] - 2s 1ms/step - loss: 0.3580 - accuracy: 0.8799 - val_loss: 0.3469 - val_accuracy: 0.8807\n",
      "Epoch 7/20\n",
      "1376/1376 [==============================] - 2s 1ms/step - loss: 0.3403 - accuracy: 0.8844 - val_loss: 0.3337 - val_accuracy: 0.8837\n",
      "Epoch 8/20\n",
      "1376/1376 [==============================] - 2s 1ms/step - loss: 0.3263 - accuracy: 0.8885 - val_loss: 0.3262 - val_accuracy: 0.8854\n",
      "Epoch 9/20\n",
      "1376/1376 [==============================] - 2s 1ms/step - loss: 0.3155 - accuracy: 0.8932 - val_loss: 0.3145 - val_accuracy: 0.8907\n",
      "Epoch 10/20\n",
      "1376/1376 [==============================] - 2s 1ms/step - loss: 0.3057 - accuracy: 0.8952 - val_loss: 0.3104 - val_accuracy: 0.8942\n",
      "Epoch 11/20\n",
      "1376/1376 [==============================] - 3s 2ms/step - loss: 0.2976 - accuracy: 0.8979 - val_loss: 0.3023 - val_accuracy: 0.8965\n",
      "Epoch 12/20\n",
      "1376/1376 [==============================] - 3s 2ms/step - loss: 0.2907 - accuracy: 0.9007 - val_loss: 0.3021 - val_accuracy: 0.8945\n",
      "Epoch 13/20\n",
      "1376/1376 [==============================] - 3s 2ms/step - loss: 0.2850 - accuracy: 0.9020 - val_loss: 0.2937 - val_accuracy: 0.8982\n",
      "Epoch 14/20\n",
      "1376/1376 [==============================] - 3s 2ms/step - loss: 0.2790 - accuracy: 0.9047 - val_loss: 0.2866 - val_accuracy: 0.8982\n",
      "Epoch 15/20\n",
      "1376/1376 [==============================] - 3s 2ms/step - loss: 0.2742 - accuracy: 0.9057 - val_loss: 0.2824 - val_accuracy: 0.9030\n",
      "Epoch 16/20\n",
      "1376/1376 [==============================] - 3s 2ms/step - loss: 0.2695 - accuracy: 0.9077 - val_loss: 0.2786 - val_accuracy: 0.9022\n",
      "Epoch 17/20\n",
      "1376/1376 [==============================] - 4s 3ms/step - loss: 0.2653 - accuracy: 0.9090 - val_loss: 0.2757 - val_accuracy: 0.9052\n",
      "Epoch 18/20\n",
      "1376/1376 [==============================] - 4s 3ms/step - loss: 0.2607 - accuracy: 0.9104 - val_loss: 0.2717 - val_accuracy: 0.9060\n",
      "Epoch 19/20\n",
      "1376/1376 [==============================] - 4s 3ms/step - loss: 0.2574 - accuracy: 0.9119 - val_loss: 0.2711 - val_accuracy: 0.9065\n",
      "Epoch 20/20\n",
      "1376/1376 [==============================] - 4s 3ms/step - loss: 0.2536 - accuracy: 0.9124 - val_loss: 0.2713 - val_accuracy: 0.9113\n"
     ]
    },
    {
     "name": "stderr",
     "output_type": "stream",
     "text": [
      "WARNING:absl:Found untraced functions such as _update_step_xla while saving (showing 1 of 1). These functions will not be directly callable after loading.\n"
     ]
    },
    {
     "name": "stdout",
     "output_type": "stream",
     "text": [
      "INFO:tensorflow:Assets written to: my_model_A\\assets\n"
     ]
    },
    {
     "name": "stderr",
     "output_type": "stream",
     "text": [
      "INFO:tensorflow:Assets written to: my_model_A\\assets\n"
     ]
    }
   ],
   "source": [
    "tf.random.set_seed(42)\n",
    "\n",
    "model_A = tf.keras.Sequential([\n",
    "    tf.keras.layers.Flatten(input_shape=[28, 28]),\n",
    "    tf.keras.layers.Dense(100, activation=\"relu\",\n",
    "                          kernel_initializer=\"he_normal\"),\n",
    "    tf.keras.layers.Dense(100, activation=\"relu\",\n",
    "                          kernel_initializer=\"he_normal\"),\n",
    "    tf.keras.layers.Dense(100, activation=\"relu\",\n",
    "                          kernel_initializer=\"he_normal\"),\n",
    "    tf.keras.layers.Dense(8, activation=\"softmax\")\n",
    "])\n",
    "\n",
    "model_A.compile(loss=\"sparse_categorical_crossentropy\",\n",
    "                optimizer=tf.keras.optimizers.SGD(learning_rate=0.001),\n",
    "                metrics=[\"accuracy\"])\n",
    "history = model_A.fit(X_train_A, y_train_A, epochs=20,\n",
    "                      validation_data=(X_valid_A, y_valid_A))\n",
    "model_A.save(\"my_model_A\")"
   ]
  },
  {
   "cell_type": "code",
   "execution_count": 40,
   "metadata": {},
   "outputs": [
    {
     "name": "stdout",
     "output_type": "stream",
     "text": [
      "Epoch 1/20\n",
      "7/7 [==============================] - 1s 60ms/step - loss: 0.7919 - accuracy: 0.1900 - val_loss: 0.7715 - val_accuracy: 0.2404\n",
      "Epoch 2/20\n",
      "7/7 [==============================] - 0s 21ms/step - loss: 0.7676 - accuracy: 0.2450 - val_loss: 0.7503 - val_accuracy: 0.3017\n",
      "Epoch 3/20\n",
      "7/7 [==============================] - 0s 24ms/step - loss: 0.7453 - accuracy: 0.3200 - val_loss: 0.7322 - val_accuracy: 0.3788\n",
      "Epoch 4/20\n",
      "7/7 [==============================] - 0s 21ms/step - loss: 0.7231 - accuracy: 0.3750 - val_loss: 0.7152 - val_accuracy: 0.4392\n",
      "Epoch 5/20\n",
      "7/7 [==============================] - 0s 18ms/step - loss: 0.7053 - accuracy: 0.4800 - val_loss: 0.6969 - val_accuracy: 0.5074\n",
      "Epoch 6/20\n",
      "7/7 [==============================] - 0s 21ms/step - loss: 0.6859 - accuracy: 0.5650 - val_loss: 0.6781 - val_accuracy: 0.5776\n",
      "Epoch 7/20\n",
      "7/7 [==============================] - 0s 21ms/step - loss: 0.6659 - accuracy: 0.6550 - val_loss: 0.6597 - val_accuracy: 0.6637\n",
      "Epoch 8/20\n",
      "7/7 [==============================] - 0s 24ms/step - loss: 0.6487 - accuracy: 0.6800 - val_loss: 0.6424 - val_accuracy: 0.7280\n",
      "Epoch 9/20\n",
      "7/7 [==============================] - 0s 16ms/step - loss: 0.6299 - accuracy: 0.7450 - val_loss: 0.6253 - val_accuracy: 0.7784\n",
      "Epoch 10/20\n",
      "7/7 [==============================] - 0s 24ms/step - loss: 0.6120 - accuracy: 0.8000 - val_loss: 0.6079 - val_accuracy: 0.8081\n",
      "Epoch 11/20\n",
      "7/7 [==============================] - 0s 18ms/step - loss: 0.5934 - accuracy: 0.8450 - val_loss: 0.5907 - val_accuracy: 0.8269\n",
      "Epoch 12/20\n",
      "7/7 [==============================] - 0s 21ms/step - loss: 0.5751 - accuracy: 0.8850 - val_loss: 0.5732 - val_accuracy: 0.8467\n",
      "Epoch 13/20\n",
      "7/7 [==============================] - 0s 21ms/step - loss: 0.5568 - accuracy: 0.9000 - val_loss: 0.5575 - val_accuracy: 0.8576\n",
      "Epoch 14/20\n",
      "7/7 [==============================] - 0s 24ms/step - loss: 0.5402 - accuracy: 0.9200 - val_loss: 0.5416 - val_accuracy: 0.8724\n",
      "Epoch 15/20\n",
      "7/7 [==============================] - 0s 22ms/step - loss: 0.5240 - accuracy: 0.9200 - val_loss: 0.5262 - val_accuracy: 0.8863\n",
      "Epoch 16/20\n",
      "7/7 [==============================] - 0s 22ms/step - loss: 0.5086 - accuracy: 0.9150 - val_loss: 0.5119 - val_accuracy: 0.8922\n",
      "Epoch 17/20\n",
      "7/7 [==============================] - 0s 18ms/step - loss: 0.4940 - accuracy: 0.9150 - val_loss: 0.4978 - val_accuracy: 0.9001\n",
      "Epoch 18/20\n",
      "7/7 [==============================] - 0s 29ms/step - loss: 0.4797 - accuracy: 0.9200 - val_loss: 0.4831 - val_accuracy: 0.9100\n",
      "Epoch 19/20\n",
      "7/7 [==============================] - 0s 26ms/step - loss: 0.4657 - accuracy: 0.9150 - val_loss: 0.4705 - val_accuracy: 0.9169\n",
      "Epoch 20/20\n",
      "7/7 [==============================] - 0s 24ms/step - loss: 0.4537 - accuracy: 0.9150 - val_loss: 0.4593 - val_accuracy: 0.9219\n"
     ]
    }
   ],
   "source": [
    "tf.random.set_seed(42)\n",
    "model_B = tf.keras.Sequential([\n",
    "    tf.keras.layers.Flatten(input_shape=[28, 28]),\n",
    "    tf.keras.layers.Dense(100, activation=\"relu\",\n",
    "                          kernel_initializer=\"he_normal\"),\n",
    "    tf.keras.layers.Dense(100, activation=\"relu\",\n",
    "                          kernel_initializer=\"he_normal\"),\n",
    "    tf.keras.layers.Dense(100, activation=\"relu\",\n",
    "                          kernel_initializer=\"he_normal\"),\n",
    "    tf.keras.layers.Dense(1, activation=\"sigmoid\")\n",
    "])\n",
    "\n",
    "model_B.compile(loss=\"binary_crossentropy\",\n",
    "                optimizer=tf.keras.optimizers.SGD(learning_rate=0.001),\n",
    "                metrics=[\"accuracy\"])\n",
    "history = model_B.fit(X_train_B, y_train_B, epochs=20,\n",
    "                      validation_data=(X_valid_B, y_valid_B))"
   ]
  },
  {
   "cell_type": "code",
   "execution_count": 41,
   "metadata": {},
   "outputs": [
    {
     "name": "stdout",
     "output_type": "stream",
     "text": [
      "63/63 [==============================] - 0s 3ms/step - loss: 0.4646 - accuracy: 0.9135\n"
     ]
    },
    {
     "data": {
      "text/plain": [
       "[0.4645513594150543, 0.9135000109672546]"
      ]
     },
     "execution_count": 41,
     "metadata": {},
     "output_type": "execute_result"
    }
   ],
   "source": [
    "model_B.evaluate(X_test_B, y_test_B)"
   ]
  },
  {
   "attachments": {},
   "cell_type": "markdown",
   "metadata": {},
   "source": [
    "Now let's try reusing the pretrained model A."
   ]
  },
  {
   "cell_type": "code",
   "execution_count": 42,
   "metadata": {},
   "outputs": [],
   "source": [
    "model_A = tf.keras.models.load_model(\"my_model_A\")\n",
    "model_B_on_A = tf.keras.Sequential(model_A.layers[:-1])\n",
    "model_B_on_A.add(tf.keras.layers.Dense(1, activation=\"sigmoid\"))"
   ]
  },
  {
   "cell_type": "markdown",
   "metadata": {},
   "source": [
    "Note that `model_B_on_A` and `model_A` actually share layers now, so when we train one, it will update both models. If we want to avoid that, we need to build `model_B_on_A` on top of a *clone* of `model_A`:"
   ]
  },
  {
   "cell_type": "code",
   "execution_count": 43,
   "metadata": {},
   "outputs": [],
   "source": [
    "tf.random.set_seed(42)\n",
    "\n",
    "model_A_clone = tf.keras.models.clone_model(model_A)\n",
    "model_A_clone.set_weights(model_A.get_weights())\n",
    "\n",
    "model_B_on_A = tf.keras.Sequential(model_A_clone.layers[:-1])\n",
    "model_B_on_A.add(tf.keras.layers.Dense(1, activation=\"sigmoid\"))\n",
    "\n",
    "for layer in model_B_on_A.layers[:-1]:\n",
    "    layer.trainable = False\n",
    "\n",
    "optimizer = tf.keras.optimizers.SGD(learning_rate=0.001)\n",
    "model_B_on_A.compile(loss=\"binary_crossentropy\", optimizer=optimizer,\n",
    "                     metrics=[\"accuracy\"])"
   ]
  },
  {
   "cell_type": "code",
   "execution_count": 44,
   "metadata": {},
   "outputs": [
    {
     "name": "stdout",
     "output_type": "stream",
     "text": [
      "Epoch 1/4\n",
      "7/7 [==============================] - 1s 63ms/step - loss: 2.6119 - accuracy: 0.4450 - val_loss: 1.8199 - val_accuracy: 0.4837\n",
      "Epoch 2/4\n",
      "7/7 [==============================] - 0s 17ms/step - loss: 1.5203 - accuracy: 0.4550 - val_loss: 1.0214 - val_accuracy: 0.5104\n",
      "Epoch 3/4\n",
      "7/7 [==============================] - 0s 16ms/step - loss: 0.9013 - accuracy: 0.5350 - val_loss: 0.7668 - val_accuracy: 0.5025\n",
      "Epoch 4/4\n",
      "7/7 [==============================] - 0s 18ms/step - loss: 0.7310 - accuracy: 0.5150 - val_loss: 0.7443 - val_accuracy: 0.4728\n",
      "Epoch 1/16\n",
      "7/7 [==============================] - 1s 65ms/step - loss: 0.6805 - accuracy: 0.5250 - val_loss: 0.6547 - val_accuracy: 0.6044\n",
      "Epoch 2/16\n",
      "7/7 [==============================] - 0s 18ms/step - loss: 0.6006 - accuracy: 0.6550 - val_loss: 0.5858 - val_accuracy: 0.7062\n",
      "Epoch 3/16\n",
      "7/7 [==============================] - 0s 16ms/step - loss: 0.5390 - accuracy: 0.7250 - val_loss: 0.5422 - val_accuracy: 0.7438\n",
      "Epoch 4/16\n",
      "7/7 [==============================] - 0s 16ms/step - loss: 0.4800 - accuracy: 0.8050 - val_loss: 0.4905 - val_accuracy: 0.8071\n",
      "Epoch 5/16\n",
      "7/7 [==============================] - 0s 15ms/step - loss: 0.4392 - accuracy: 0.8500 - val_loss: 0.4538 - val_accuracy: 0.8437\n",
      "Epoch 6/16\n",
      "7/7 [==============================] - 0s 16ms/step - loss: 0.4096 - accuracy: 0.8750 - val_loss: 0.4255 - val_accuracy: 0.8714\n",
      "Epoch 7/16\n",
      "7/7 [==============================] - 0s 16ms/step - loss: 0.3824 - accuracy: 0.9000 - val_loss: 0.4051 - val_accuracy: 0.8764\n",
      "Epoch 8/16\n",
      "7/7 [==============================] - 0s 18ms/step - loss: 0.3677 - accuracy: 0.9100 - val_loss: 0.3822 - val_accuracy: 0.8971\n",
      "Epoch 9/16\n",
      "7/7 [==============================] - 0s 21ms/step - loss: 0.3429 - accuracy: 0.9150 - val_loss: 0.3650 - val_accuracy: 0.9021\n",
      "Epoch 10/16\n",
      "7/7 [==============================] - 0s 16ms/step - loss: 0.3278 - accuracy: 0.9200 - val_loss: 0.3524 - val_accuracy: 0.9070\n",
      "Epoch 11/16\n",
      "7/7 [==============================] - 0s 13ms/step - loss: 0.3141 - accuracy: 0.9250 - val_loss: 0.3371 - val_accuracy: 0.9130\n",
      "Epoch 12/16\n",
      "7/7 [==============================] - 0s 24ms/step - loss: 0.3006 - accuracy: 0.9350 - val_loss: 0.3243 - val_accuracy: 0.9149\n",
      "Epoch 13/16\n",
      "7/7 [==============================] - 0s 18ms/step - loss: 0.2883 - accuracy: 0.9350 - val_loss: 0.3155 - val_accuracy: 0.9238\n",
      "Epoch 14/16\n",
      "7/7 [==============================] - 0s 21ms/step - loss: 0.2798 - accuracy: 0.9300 - val_loss: 0.3068 - val_accuracy: 0.9268\n",
      "Epoch 15/16\n",
      "7/7 [==============================] - 0s 21ms/step - loss: 0.2710 - accuracy: 0.9350 - val_loss: 0.2973 - val_accuracy: 0.9298\n",
      "Epoch 16/16\n",
      "7/7 [==============================] - 0s 18ms/step - loss: 0.2625 - accuracy: 0.9350 - val_loss: 0.2895 - val_accuracy: 0.9308\n"
     ]
    }
   ],
   "source": [
    "history = model_B_on_A.fit(X_train_B, y_train_B, epochs=4,\n",
    "                           validation_data=(X_valid_B, y_valid_B))\n",
    "\n",
    "for layer in model_B_on_A.layers[:-1]:\n",
    "    layer.trainable = True\n",
    "\n",
    "optimizer = tf.keras.optimizers.SGD(learning_rate=0.001)\n",
    "model_B_on_A.compile(loss=\"binary_crossentropy\", optimizer=optimizer,\n",
    "                     metrics=[\"accuracy\"])\n",
    "history = model_B_on_A.fit(X_train_B, y_train_B, epochs=16,\n",
    "                           validation_data=(X_valid_B, y_valid_B))"
   ]
  },
  {
   "cell_type": "code",
   "execution_count": 45,
   "metadata": {},
   "outputs": [
    {
     "name": "stdout",
     "output_type": "stream",
     "text": [
      "63/63 [==============================] - 0s 2ms/step - loss: 0.4646 - accuracy: 0.9135\n"
     ]
    },
    {
     "data": {
      "text/plain": [
       "[0.4645513594150543, 0.9135000109672546]"
      ]
     },
     "execution_count": 45,
     "metadata": {},
     "output_type": "execute_result"
    }
   ],
   "source": [
    "model_B.evaluate(X_test_B, y_test_B)"
   ]
  },
  {
   "cell_type": "code",
   "execution_count": 46,
   "metadata": {},
   "outputs": [
    {
     "name": "stdout",
     "output_type": "stream",
     "text": [
      "63/63 [==============================] - 0s 2ms/step - loss: 0.2975 - accuracy: 0.9205\n"
     ]
    },
    {
     "data": {
      "text/plain": [
       "[0.29749995470046997, 0.9204999804496765]"
      ]
     },
     "execution_count": 46,
     "metadata": {},
     "output_type": "execute_result"
    }
   ],
   "source": [
    "model_B_on_A.evaluate(X_test_B, y_test_B)"
   ]
  },
  {
   "cell_type": "code",
   "execution_count": null,
   "metadata": {},
   "outputs": [],
   "source": []
  }
 ],
 "metadata": {
  "kernelspec": {
   "display_name": "pytorch_cpu",
   "language": "python",
   "name": "python3"
  },
  "language_info": {
   "codemirror_mode": {
    "name": "ipython",
    "version": 3
   },
   "file_extension": ".py",
   "mimetype": "text/x-python",
   "name": "python",
   "nbconvert_exporter": "python",
   "pygments_lexer": "ipython3",
   "version": "3.10.9 (tags/v3.10.9:1dd9be6, Dec  6 2022, 20:01:21) [MSC v.1934 64 bit (AMD64)]"
  },
  "orig_nbformat": 4,
  "vscode": {
   "interpreter": {
    "hash": "ea445e1515f943d2885e4730ea69ace15b02c78ac5cd5be2a495018cd89fb42d"
   }
  }
 },
 "nbformat": 4,
 "nbformat_minor": 2
}
