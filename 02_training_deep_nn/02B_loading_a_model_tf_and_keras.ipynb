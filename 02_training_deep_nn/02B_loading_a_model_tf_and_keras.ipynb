{
 "cells": [
  {
   "attachments": {},
   "cell_type": "markdown",
   "metadata": {},
   "source": [
    "# Loading a Saved Model\n",
    "1. Serving a model can be via a REST API, or on a device (such as Android or iOS) or on the browser (as a Javascript). Tensorflow provides support for all of these options. See Chollet section 6.3.2, page 166 for more.\n",
    "2. During long trainings it makes sense to save your model. A version of a model (with the weights and optimizer status at that time) is called 'checkpoint'. To see how to use that in Keras, see Chollet section 7.3.2, page 187.\n",
    "\n",
    "For serving a Model with Tensorflow see also:\n",
    "1. https://github.com/tensorflow/docs/blob/master/site/en/guide/saved_model.ipynb\n",
    "2. https://www.tensorflow.org/tfx/tutorials/serving/rest_simple"
   ]
  },
  {
   "cell_type": "code",
   "execution_count": 1,
   "metadata": {},
   "outputs": [],
   "source": [
    "import tensorflow as tf"
   ]
  },
  {
   "cell_type": "code",
   "execution_count": 2,
   "metadata": {},
   "outputs": [],
   "source": [
    "# get the test MNIST data\n",
    "mnist = tf.keras.datasets.mnist\n",
    "_, (test_images, test_labels) = mnist.load_data()\n",
    "# preprocess\n",
    "test_images = test_images.reshape((10000, 28 * 28))\n",
    "test_images = test_images.astype(\"float32\") / 255"
   ]
  },
  {
   "cell_type": "code",
   "execution_count": 3,
   "metadata": {},
   "outputs": [],
   "source": [
    "# load the model with Keras:\n",
    "test_model = tf.keras.models.load_model(\"./mnist_model/keras_pb/\")"
   ]
  },
  {
   "cell_type": "code",
   "execution_count": 4,
   "metadata": {},
   "outputs": [
    {
     "name": "stdout",
     "output_type": "stream",
     "text": [
      "1/1 [==============================] - 0s 64ms/step\n"
     ]
    }
   ],
   "source": [
    "# perdict a single image\n",
    "prediction = test_model.predict(test_images[0:1])"
   ]
  },
  {
   "cell_type": "code",
   "execution_count": 5,
   "metadata": {},
   "outputs": [
    {
     "data": {
      "text/plain": [
       "7"
      ]
     },
     "execution_count": 5,
     "metadata": {},
     "output_type": "execute_result"
    }
   ],
   "source": [
    "prediction.argmax()  # this is the same as the model at the time it was saved, as expected"
   ]
  },
  {
   "cell_type": "code",
   "execution_count": 6,
   "metadata": {},
   "outputs": [
    {
     "name": "stdout",
     "output_type": "stream",
     "text": [
      "313/313 [==============================] - 1s 1ms/step - loss: 0.0615 - accuracy: 0.9812\n",
      "test_acc: 0.9811999797821045\n"
     ]
    }
   ],
   "source": [
    "test_loss, test_acc = test_model.evaluate(test_images, test_labels)\n",
    "print(f\"test_acc: {test_acc}\")  # this is the same as the model at the time it was saved, as expected"
   ]
  },
  {
   "cell_type": "code",
   "execution_count": 7,
   "metadata": {},
   "outputs": [
    {
     "name": "stdout",
     "output_type": "stream",
     "text": [
      "1/1 [==============================] - 0s 23ms/step\n",
      "Time to predict a single image: 53 ms\n"
     ]
    }
   ],
   "source": [
    "# it is useful to benchmark the time it takes to predict a single image\n",
    "# a complete benchmark would need to run the prediction multiple times\n",
    "# and list the configuration (such as the CPU or GPU stypes and the versions of Python and TensorFlow)\n",
    "import time\n",
    "\n",
    "start = time.time()\n",
    "prediction = test_model.predict(test_images[0:1])\n",
    "end = time.time()\n",
    "print(f\"Time to predict a single image: {round((end - start) * 1000)} ms\")"
   ]
  },
  {
   "attachments": {},
   "cell_type": "markdown",
   "metadata": {},
   "source": [
    "### Load and Infer with Tensorflow "
   ]
  },
  {
   "cell_type": "code",
   "execution_count": 8,
   "metadata": {},
   "outputs": [
    {
     "name": "stdout",
     "output_type": "stream",
     "text": [
      "['serving_default']\n"
     ]
    }
   ],
   "source": [
    "loaded = tf.saved_model.load('./mnist_model/tf/')\n",
    "print(list(loaded.signatures.keys()))"
   ]
  },
  {
   "cell_type": "code",
   "execution_count": 9,
   "metadata": {},
   "outputs": [],
   "source": [
    "infer = loaded.signatures[\"serving_default\"] "
   ]
  },
  {
   "cell_type": "code",
   "execution_count": 10,
   "metadata": {},
   "outputs": [
    {
     "name": "stdout",
     "output_type": "stream",
     "text": [
      "{'dense_1': TensorSpec(shape=(None, 10), dtype=tf.float32, name='dense_1')}\n"
     ]
    }
   ],
   "source": [
    "print(infer.structured_outputs)  # this provides the name of the output layer"
   ]
  },
  {
   "cell_type": "code",
   "execution_count": 11,
   "metadata": {},
   "outputs": [],
   "source": [
    "prediction = infer(tf.constant(test_images[0:1]))['dense_1']"
   ]
  },
  {
   "cell_type": "code",
   "execution_count": 12,
   "metadata": {},
   "outputs": [
    {
     "data": {
      "text/plain": [
       "<tf.Tensor: shape=(1, 10), dtype=float32, numpy=\n",
       "array([[2.0238337e-08, 4.3006159e-09, 2.2429526e-06, 3.1001149e-05,\n",
       "        2.4654953e-12, 1.0138720e-07, 4.4970555e-12, 9.9996340e-01,\n",
       "        5.6754946e-08, 3.1188131e-06]], dtype=float32)>"
      ]
     },
     "execution_count": 12,
     "metadata": {},
     "output_type": "execute_result"
    }
   ],
   "source": [
    "prediction"
   ]
  },
  {
   "cell_type": "code",
   "execution_count": 13,
   "metadata": {},
   "outputs": [
    {
     "data": {
      "text/plain": [
       "7"
      ]
     },
     "execution_count": 13,
     "metadata": {},
     "output_type": "execute_result"
    }
   ],
   "source": [
    "prediction.numpy().argmax()  # same as the model at the time it was saved, as expected"
   ]
  },
  {
   "cell_type": "code",
   "execution_count": 14,
   "metadata": {},
   "outputs": [
    {
     "name": "stdout",
     "output_type": "stream",
     "text": [
      "Time to predict a single image: 1.0 ms\n"
     ]
    }
   ],
   "source": [
    "start = time.time()\n",
    "prediction = infer(tf.constant(test_images[0:1]))['dense_1']\n",
    "end = time.time()\n",
    "print(f\"Time to predict a single image: {round((end - start) * 1000, 1)} ms\")"
   ]
  },
  {
   "cell_type": "code",
   "execution_count": 15,
   "metadata": {},
   "outputs": [
    {
     "data": {
      "text/plain": [
       "7"
      ]
     },
     "execution_count": 15,
     "metadata": {},
     "output_type": "execute_result"
    }
   ],
   "source": [
    "# note that a models saved with Keras can be loaded with TensorFlow\n",
    "loaded = tf.saved_model.load('./mnist_model/keras_pb/')\n",
    "infer = loaded.signatures[\"serving_default\"] \n",
    "prediction = infer(tf.constant(test_images[0:1]))['dense_1']\n",
    "prediction.numpy().argmax()  # same as the model at the time it was saved, as expected"
   ]
  },
  {
   "cell_type": "code",
   "execution_count": 16,
   "metadata": {},
   "outputs": [
    {
     "name": "stdout",
     "output_type": "stream",
     "text": [
      "WARNING:tensorflow:SavedModel saved prior to TF 2.5 detected when loading Keras model. Please ensure that you are saving the model with model.save() or tf.keras.models.save_model(), *NOT* tf.saved_model.save(). To confirm, there should be a file named \"keras_metadata.pb\" in the SavedModel directory.\n",
      "Unable to create a Keras model from SavedModel at ./mnist_model/tf/. This SavedModel was exported with `tf.saved_model.save`, and lacks the Keras metadata file. Please save your Keras model by calling `model.save` or `tf.keras.models.save_model`. Note that you can still load this SavedModel with `tf.saved_model.load`.\n"
     ]
    }
   ],
   "source": [
    "# However, loading a model saved with TensorFlow with Keras will not work:\n",
    "try:\n",
    "    tf.keras.models.load_model(\"./mnist_model/tf/\")\n",
    "except Exception as e:\n",
    "    print(e)"
   ]
  },
  {
   "cell_type": "code",
   "execution_count": 17,
   "metadata": {},
   "outputs": [],
   "source": [
    "# the difference between the two folders is an additional `keras_metadata.pb` file in the Keras folder"
   ]
  },
  {
   "cell_type": "code",
   "execution_count": 18,
   "metadata": {},
   "outputs": [
    {
     "name": "stdout",
     "output_type": "stream",
     "text": [
      "SavedModel file does not exist at: ./mnist_model/keras_h5/model.h5\\{saved_model.pbtxt|saved_model.pb}\n"
     ]
    }
   ],
   "source": [
    "# h5 Keras model can't be loaded with TensorFlow\n",
    "try:\n",
    "    loaded = tf.saved_model.load('./mnist_model/keras_h5/model.h5')\n",
    "except Exception as e:\n",
    "    print(e)\n"
   ]
  },
  {
   "cell_type": "code",
   "execution_count": 21,
   "metadata": {},
   "outputs": [
    {
     "data": {
      "text/plain": [
       "7"
      ]
     },
     "execution_count": 21,
     "metadata": {},
     "output_type": "execute_result"
    }
   ],
   "source": [
    "# if only inference (but not training) is needed, the model saved without the optimizer can be loaded\n",
    "loaded = tf.saved_model.load('./mnist_model/keras_pb_no_optimizer/')\n",
    "infer = loaded.signatures[\"serving_default\"] \n",
    "prediction = infer(tf.constant(test_images[0:1]))['dense_1']\n",
    "prediction.numpy().argmax()  # same as the model at the time it was saved, as expected"
   ]
  },
  {
   "cell_type": "code",
   "execution_count": 22,
   "metadata": {},
   "outputs": [
    {
     "data": {
      "text/plain": [
       "((),\n",
       " {'dense_input': TensorSpec(shape=(None, 784), dtype=tf.float32, name='dense_input')})"
      ]
     },
     "execution_count": 22,
     "metadata": {},
     "output_type": "execute_result"
    }
   ],
   "source": [
    "infer.structured_input_signature"
   ]
  },
  {
   "cell_type": "code",
   "execution_count": null,
   "metadata": {},
   "outputs": [],
   "source": []
  }
 ],
 "metadata": {
  "kernelspec": {
   "display_name": "tensorflow_cpu",
   "language": "python",
   "name": "tensorflow_cpu"
  },
  "language_info": {
   "codemirror_mode": {
    "name": "ipython",
    "version": 3
   },
   "file_extension": ".py",
   "mimetype": "text/x-python",
   "name": "python",
   "nbconvert_exporter": "python",
   "pygments_lexer": "ipython3",
   "version": "3.10.9"
  },
  "orig_nbformat": 4,
  "vscode": {
   "interpreter": {
    "hash": "ea445e1515f943d2885e4730ea69ace15b02c78ac5cd5be2a495018cd89fb42d"
   }
  }
 },
 "nbformat": 4,
 "nbformat_minor": 2
}
